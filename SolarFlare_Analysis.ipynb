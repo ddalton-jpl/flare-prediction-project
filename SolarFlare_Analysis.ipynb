{
 "cells": [
  {
   "cell_type": "markdown",
   "metadata": {},
   "source": [
    "First we need to import X_dataset.csv and provide labels to the dataset"
   ]
  },
  {
   "cell_type": "code",
   "execution_count": 35,
   "metadata": {},
   "outputs": [],
   "source": [
    "import pyspark\n",
    "import pandas as pd\n",
    "\n",
    "headers = [\"class\", \"largestSpot\", \"spotDistribution\", \"activity\", \"evolution\", \"previousActivity\", \"complex\",\n",
    "           \"complexOnPath\", \"area\", \"largestSpotArea\", \"c-class\", \"m-class\", \"x-class\"]\n",
    "\n",
    "df = pd.read_csv(\"X_dataset.csv\", header=None, names=headers)\n",
    "\n",
    "def export_to_csv(df, filename):\n",
    "    df.to_csv(filename, index=False)"
   ]
  },
  {
   "cell_type": "code",
   "execution_count": null,
   "metadata": {},
   "outputs": [],
   "source": [
    "df = pd.read_csv(\"out.csv\")\n",
    "\n",
    "\n",
    "def make_correlation_report(df, filename):\n",
    "    corr_analysis = df.corr()\n",
    "    export_to_csv(corr_analysis, filename)\n",
    "\n",
    "\n",
    "# Calculates a correlation report for all columns\n",
    "make_correlation_report(df, \"correlation_analysis.csv\")\n",
    "\n",
    "# Calculates a correlation report for x-class solar flares\n",
    "x_df = df.drop([\"c-class\", \"m-class\"], axis=1)\n",
    "make_correlation_report(x_df, \"xclass_correlation_analysis.csv\")"
   ]
  }
 ],
 "metadata": {
  "kernelspec": {
   "display_name": "Python 3",
   "language": "python",
   "name": "python3"
  },
  "language_info": {
   "codemirror_mode": {
    "name": "ipython",
    "version": 3
   },
   "file_extension": ".py",
   "mimetype": "text/x-python",
   "name": "python",
   "nbconvert_exporter": "python",
   "pygments_lexer": "ipython3",
   "version": "3.10.9"
  },
  "orig_nbformat": 4,
  "vscode": {
   "interpreter": {
    "hash": "f89f6dd96adb598243fd8494827c90b4d1e1a841070304780b0654964b97461d"
   }
  }
 },
 "nbformat": 4,
 "nbformat_minor": 2
}
