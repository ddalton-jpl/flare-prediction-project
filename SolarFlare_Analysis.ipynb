{
 "cells": [
  {
   "cell_type": "markdown",
   "metadata": {},
   "source": [
    "First we need to import X_dataset.csv and provide labels to the dataset"
   ]
  },
  {
   "cell_type": "code",
   "execution_count": 12,
   "metadata": {},
   "outputs": [],
   "source": [
    "import pyspark\n",
    "import pandas as pd\n",
    "\n",
    "headers = [\"class\", \"largestSpot\", \"spotDistribution\", \"activity\", \"evolution\", \"previousActivity\", \"complex\",\n",
    "           \"complexOnPath\", \"area\", \"largestSpotArea\", \"c-class\", \"m-class\", \"x-class\"]\n",
    "\n",
    "df = pd.read_csv(\"X_dataset.csv\", header=None, names=headers)\n",
    "\n",
    "def export_to_csv(df, filename):\n",
    "    df.to_csv(filename, index=False)"
   ]
  },
  {
   "cell_type": "code",
   "execution_count": 13,
   "metadata": {},
   "outputs": [
    {
     "name": "stderr",
     "output_type": "stream",
     "text": [
      "C:\\Users\\trwyn\\AppData\\Local\\Temp\\ipykernel_14044\\397613269.py:2: FutureWarning: The default value of numeric_only in DataFrame.corr is deprecated. In a future version, it will default to False. Select only valid columns or specify the value of numeric_only to silence this warning.\n",
      "  corr_analysis = df.corr()\n"
     ]
    }
   ],
   "source": [
    "df = pd.read_csv(\"out.csv\")\n",
    "corr_analysis = df.corr()\n",
    "export_to_csv(corr_analysis, \"correlation_analysis.csv\")"
   ]
  }
 ],
 "metadata": {
  "kernelspec": {
   "display_name": "Python 3",
   "language": "python",
   "name": "python3"
  },
  "language_info": {
   "codemirror_mode": {
    "name": "ipython",
    "version": 3
   },
   "file_extension": ".py",
   "mimetype": "text/x-python",
   "name": "python",
   "nbconvert_exporter": "python",
   "pygments_lexer": "ipython3",
   "version": "3.10.9"
  },
  "orig_nbformat": 4,
  "vscode": {
   "interpreter": {
    "hash": "f89f6dd96adb598243fd8494827c90b4d1e1a841070304780b0654964b97461d"
   }
  }
 },
 "nbformat": 4,
 "nbformat_minor": 2
}
