{
 "cells": [
  {
   "cell_type": "markdown",
   "metadata": {},
   "source": [
    "First we need to import X_dataset.csv and provide labels to the dataset"
   ]
  },
  {
   "cell_type": "code",
   "execution_count": 3,
   "metadata": {},
   "outputs": [],
   "source": [
    "import pyspark\n",
    "import pandas as pd\n",
    "\n",
    "headers = [\"class\", \"largestSpot\", \"spotDistribution\", \"activity\", \"evolution\", \"previousActivity\", \"complex\",\n",
    "           \"complexOnPath\", \"area\", \"largestSpotArea\", \"c-class\", \"m-class\", \"x-class\"]\n",
    "\n",
    "df = pd.read_csv(\"X_dataset.csv\", header=None, names=headers)\n",
    "\n",
    "def export_to_csv(df, filename):\n",
    "    df.to_csv(filename, index=False)"
   ]
  }
 ],
 "metadata": {
  "kernelspec": {
   "display_name": "Python 3.10.9 64-bit",
   "language": "python",
   "name": "python3"
  },
  "language_info": {
   "codemirror_mode": {
    "name": "ipython",
    "version": 3
   },
   "file_extension": ".py",
   "mimetype": "text/x-python",
   "name": "python",
   "nbconvert_exporter": "python",
   "pygments_lexer": "ipython3",
   "version": "3.10.9"
  },
  "orig_nbformat": 4,
  "vscode": {
   "interpreter": {
    "hash": "b0fa6594d8f4cbf19f97940f81e996739fb7646882a419484c72d19e05852a7e"
   }
  }
 },
 "nbformat": 4,
 "nbformat_minor": 2
}
